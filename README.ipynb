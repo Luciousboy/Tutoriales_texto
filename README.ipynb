{
 "cells": [
  {
   "cell_type": "markdown",
   "metadata": {},
   "source": [
    "# Tutoriales de análisis de texto"
   ]
  },
  {
   "cell_type": "markdown",
   "metadata": {},
   "source": [
    "Estos son los requistos para que podamos correr los diferentes tutoriales."
   ]
  },
  {
   "cell_type": "markdown",
   "metadata": {},
   "source": [
    "### Instalación de módulos\n",
    "\n",
    "Para instalar los diferentes módulos de python que necesitamos utilizamos el gestor de paquetes de python [*pip*](https://pypi.org/project/pip/). Para instalarlo necesitamos permisos de superusuario:\n",
    "\n",
    "- sudo apt install python-pip\n",
    "\n",
    "Con la siguiente línea nos aseguramos que esté en su versión más reciente:\n",
    "\n",
    "- sudo python -m pip install --upgrade pip\n",
    "\n",
    "En vez de instalar paquetes como superusuario se recomienda utilizar lo que se llama un entorno virtual. Un entorno virtual es equivalente a tener una copia de python instalada en el directorio donde estamos trabajando, sobre la cual vamos a poder instalar y actualizar paquetes sin sobreescribir información de otros usuarios. Necesitamos el programa [*virtualenv*](https://virtualenv.pypa.io/en/stable/):\n",
    "\n",
    "- sudo python -m pip install virtualenv\n",
    "\n",
    "Teniendo los requisitos anteriores, creamos el entorno virtual:\n",
    "\n",
    "- virtualenv Nombre_del_entorno\n",
    "\n",
    "Notar que se creó una carpeta con el nombre del entorno en el directorio donde estamos trabajando. Para activar el entorno hacemos:\n",
    "\n",
    "- source Nombre_del_entorno/bin/activate\n",
    "\n",
    "En la línea de comando tiene que aparecer la leyenda *(Nombre_del_entorno)*. Eso significa que estamos efectivamente en el entorno virtual.\n",
    "\n",
    "Una vez aquí podemos instalar los paquetes que querramos sin necesidad de ser superusuario. La ventaja que tienen los entornos virtuales es que podemos crear entornos con el mismo paquete pero en versiones diferentes, en caso de querer rerproducir algún resultado que dependa fuertemente de la versión del paquete que utiliza. La única desventaja es que si algún módulo de python requiere de la instalación de alguna librería de linux especial tenemos que recurrir sí o sí al usuario *root* o a alguno con permiso de superusuario. Sin embargo mantieniendo el sistema operativo actualizado, la creación de entornos virtuales es ideal para que puedan trabajar diferentes usuarios en la misma máquina sin generar conflicto entre las versiones de los paquetes de python utilizados por cada uno.\n",
    "\n",
    "Podemos asegurarnos nuevamente que pip esté en la versión más actual:\n",
    "\n",
    "- python -m pip install --upgrade pip\n",
    "\n",
    "Notar que ya no necesitamos ningún tipo de permiso. Para instalar un paquete o módulo de python en el entorno virtual podemos usar cualquiera de las dos líneas:\n",
    "\n",
    "- python -m pip install nombre_del_paquete\n",
    "- pip install nombre_del_paquete\n",
    "\n",
    "Consultar a la documentación de cada paquete para ver si en este comando va el nombre literal del mismo (generalmente sí).\n",
    "\n",
    "En principio instalamos lo que necesitamos. Empezamos por [**Jupyter notebook**](http://jupyter.org/):\n",
    "\n",
    "- python -m pip install jupyter \n",
    "\n",
    "Para arrancar jupyter escribir en la terminal. Recordar que Jupyter solo lee subdirectorios, por lo que es conveniente abrir la notebook parado en la carpeta del proyecto (y no en algún subdirectorio del mismo).\n",
    "\n",
    "```\n",
    "jupyter notebook\n",
    "```\n",
    "\n",
    "Paquetes para análisis numérico [**Numpy**](http://www.numpy.org/) y [**Scipy**](https://www.scipy.org/):\n",
    "\n",
    "- python -m pip install numpy \n",
    "- python -m pip install scipy\n",
    "\n",
    "Paquete de machine-learning de uso general [**Scikit-learn**](http://scikit-learn.org/stable/):\n",
    "\n",
    "- python -m pip install scikit-learn\n",
    "\n",
    "Paquetes para análisis de texto [**Gensim**](https://radimrehurek.com/gensim/) y [**Nltk**](https://www.nltk.org/):\n",
    "\n",
    "- python -m pip install gensim\n",
    "- python -m pip install nltk\n",
    "\n",
    "Paquete para la realización de gráficos [**Matplotlib**](https://matplotlib.org/):\n",
    "\n",
    "- python -m pip install matplotlib\n",
    "\n",
    "Paquetes para análisis de redes complejas [**Networkx**](https://networkx.github.io/) y [**Igraph**](http://igraph.org/python/):\n",
    "\n",
    "- python -m pip install networkx\n",
    "- python -m pip install igraph\n",
    "\n",
    "Cualquier programa que corramos correra con los paquetes instalados en el entorno virtual siempre y cuando el mismo haya sido activado.\n",
    "\n",
    "Para salir del entorno virtual simplemente escribimos en la terminal *deactivate*."
   ]
  },
  {
   "cell_type": "markdown",
   "metadata": {},
   "source": [
    "### Corpus de prueba\n",
    "\n",
    "Las notas que vamos a utilizar como prueba pertencen al diario La Nación. Hay 100 notas de cada uno de los siguientes temas, teniendo un total de 400 notas:\n",
    "\n",
    "- aborto\n",
    "- boca\n",
    "- dólar\n",
    "- trump\n",
    "\n",
    "Las notas fueron seleccionados de forma tal que contengan esa palabra clave en el título. Las notas de \"boca\" pertenecen exclusivamente a la sección deportiva.\n",
    "\n",
    "Los textos están en el archivo *Data.zip*, hay que descomprimirla para que los programas puedan correr: *unzip Data.zip*.\n",
    "Los textos quedan finalmente como archivos *.txt* dentro de la carpeta *Data*."
   ]
  },
  {
   "cell_type": "markdown",
   "metadata": {},
   "source": [
    "### Orden de los tutoriales\n",
    "\n",
    "Arrancar en este orden:\n",
    "\n",
    "1) Preprocesamiento  \n",
    "2) LSA  \n",
    "3) NMF  "
   ]
  },
  {
   "cell_type": "code",
   "execution_count": null,
   "metadata": {},
   "outputs": [],
   "source": []
  }
 ],
 "metadata": {
  "kernelspec": {
   "display_name": "Python 2",
   "language": "python",
   "name": "python2"
  },
  "language_info": {
   "codemirror_mode": {
    "name": "ipython",
    "version": 2
   },
   "file_extension": ".py",
   "mimetype": "text/x-python",
   "name": "python",
   "nbconvert_exporter": "python",
   "pygments_lexer": "ipython2",
   "version": "2.7.12"
  }
 },
 "nbformat": 4,
 "nbformat_minor": 2
}
