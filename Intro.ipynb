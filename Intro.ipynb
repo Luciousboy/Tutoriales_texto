{
 "cells": [
  {
   "cell_type": "markdown",
   "metadata": {},
   "source": [
    "# Tutorial de análisis de texto"
   ]
  },
  {
   "cell_type": "markdown",
   "metadata": {},
   "source": [
    "El siguiente tutorial explica como utilizar **Gensim** y **Scikit-learn** para análisis de texto, desde la construcción de un diccionario de palabras hasta la utilización de diversos modelos.\n",
    "\n",
    "### Corpus de entrenamiento\n",
    "\n",
    "Las notas que vamos a utilizar como prueba pertencen al diario La Nación. Hay 100 notas de cada uno de los siguientes temas, teniendo un total de 400 notas:\n",
    "\n",
    "- aborto\n",
    "- boca\n",
    "- dólar\n",
    "- trump\n",
    "\n",
    "Las notas fueron seleccionados de forma tal que contengan esa palabra clave en el título. Las notas de \"boca\" pertenecen exclusivamente a la sección deportiva.\n"
   ]
  },
  {
   "cell_type": "code",
   "execution_count": null,
   "metadata": {},
   "outputs": [],
   "source": []
  }
 ],
 "metadata": {
  "kernelspec": {
   "display_name": "Python 2",
   "language": "python",
   "name": "python2"
  },
  "language_info": {
   "codemirror_mode": {
    "name": "ipython",
    "version": 2
   },
   "file_extension": ".py",
   "mimetype": "text/x-python",
   "name": "python",
   "nbconvert_exporter": "python",
   "pygments_lexer": "ipython2",
   "version": "2.7.12"
  }
 },
 "nbformat": 4,
 "nbformat_minor": 2
}
