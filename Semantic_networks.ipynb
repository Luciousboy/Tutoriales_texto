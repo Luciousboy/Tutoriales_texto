{
 "cells": [
  {
   "cell_type": "markdown",
   "metadata": {},
   "source": [
    "### TODO \n",
    "\n",
    "### Redes de documentos\n",
    "\n",
    "Démosle una vuelta de tuerca al problema y propongamos una construcción tipo redes complejas de los documentos. Para ello vamos a utilizar la librería de python especial para redes complejas llamada Networkx. Definamos la red de documentos como una red pesada, cuyo pesos vienen dados por la correlación entre documentos, descartando la creación de un link si la correlación no es estadísticamente significativa (es decir, si tiene un p-valor > 0.001 descartamos el link, sino lo conservamos con el peso dado por la correlación). Veamos el efecto de reducir la dimensión del problema.\n",
    "\n",
    "Comenzamos importando la librería:\n"
   ]
  },
  {
   "cell_type": "code",
   "execution_count": null,
   "metadata": {},
   "outputs": [],
   "source": [
    "import networkx as nx\n",
    "\n",
    "g = nx.Graph()\n",
    "\n",
    "N = corpus2sklearn.shape[0]\n",
    "for i in range(N):\n",
    "    for j in range(i+1, N):\n",
    "            aux = pearsonr(corpus2sklearn[i].toarray()[0], corpus2sklearn[j].toarray()[0])\n",
    "            if aux[1] < 0.001:\n",
    "                g.add_edge(i, j, weight = aux[0])"
   ]
  }
 ],
 "metadata": {
  "kernelspec": {
   "display_name": "Python 2",
   "language": "python",
   "name": "python2"
  },
  "language_info": {
   "codemirror_mode": {
    "name": "ipython",
    "version": 2
   },
   "file_extension": ".py",
   "mimetype": "text/x-python",
   "name": "python",
   "nbconvert_exporter": "python",
   "pygments_lexer": "ipython2",
   "version": "2.7.12"
  }
 },
 "nbformat": 4,
 "nbformat_minor": 2
}
