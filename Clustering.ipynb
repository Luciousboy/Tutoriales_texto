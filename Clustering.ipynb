{
 "cells": [
  {
   "cell_type": "markdown",
   "metadata": {},
   "source": [
    "### Clustering jerárquico \n",
    "\n",
    "El clustering jerárquico va uniendo objetos de a pares en función de la distancia que los separa. Una vez que fusiona dos objetos, calcula la distancia entre el conjunto y un objeto individual la calcula según distintos criterios (puede ser tomando la distancia promedio entre el objeto y el conjunto, la distancia mínima, máxima, etc.).\n",
    "\n",
    "Acá vamos a ver cómo funciona para el conjunto de documentos de prueba, en caso que se utilize **NMF** con más tópicos que los 4 esperados."
   ]
  },
  {
   "cell_type": "markdown",
   "metadata": {},
   "source": [
    "Comenzamos aplicando **NMF** a la matriz *tf-idf* del corpus, con por ejemplo 8 tópicos (los objetos que carga vienen de los tutoriales anteriores):"
   ]
  },
  {
   "cell_type": "code",
   "execution_count": 1,
   "metadata": {},
   "outputs": [
    {
     "name": "stdout",
     "output_type": "stream",
     "text": [
      "Tópico 0: aborto, vida, mujeres, mujer, embarazo, salud, ley, debate, despenalización, derecho\n",
      "Tópico 1: dólar, inflación, bcra, mercado, tasa, tasas, suba, us, central, precios\n",
      "Tópico 2: boca, river, copa, pavón, equipo, partido, superliga, libertadores, guillermo, barros\n",
      "Tópico 3: acero, aranceles, comercial, aluminio, china, trump, comercio, exportaciones, productos, estados\n",
      "Tópico 4: kim, corea, norte, cumbre, trump, jong, singapur, nuclear, pyongyang, norcoreano\n",
      "Tópico 5: diputados, debate, proyecto, discusión, legalización, aborto, comisión, iniciativa, comisiones, legislación\n",
      "Tópico 6: trump, siria, blanca, ataque, presidente, casa, estados, washington, unidos, donald\n",
      "Tópico 7: centavos, dólar, mayorista, divisa, banco, bancos, mercado, segmento, cerró, entidades\n"
     ]
    }
   ],
   "source": [
    "import cPickle as pk\n",
    "from sklearn.decomposition import NMF\n",
    "from gensim.corpora import Dictionary\n",
    "from gensim.matutils import corpus2csc\n",
    "\n",
    "# Cargado del diccionario construido\n",
    "dictionary = Dictionary.load('tutorial.dict')\n",
    "\n",
    "# Cargado del corpus como tfidf\n",
    "corpus_tfidf = pk.load(file('Tutorial_corpus_tfidf.pk','r'))\n",
    "\n",
    "# Corpus para sklearn\n",
    "corpus2sklearn = corpus2csc(corpus_tfidf).T\n",
    "\n",
    "# Objeto nmf a partir de la clase NMF\n",
    "nmf = NMF(n_components = 8, random_state=123457)\n",
    "\n",
    "# Transformamos el corpus como tfidf al espacio de tópicos\n",
    "corpus_transformed = nmf.fit_transform(corpus2sklearn)\n",
    "\n",
    "# Imprimimos los términos de cada tópico\n",
    "nt = 0 # Indice auxiliar\n",
    "for c in nmf.components_:\n",
    "    \n",
    "    m = len(c)\n",
    "    l = range(m)\n",
    "    ordered_index_list = sorted(l, reverse = True, key = lambda x: c[x])\n",
    "    topic_terms = [dictionary[i] for i in ordered_index_list[:10]]\n",
    "    print(u'Tópico {}: '.format(nt) + u', '.join(topic_terms))\n",
    "\n",
    "    nt += 1"
   ]
  },
  {
   "cell_type": "markdown",
   "metadata": {},
   "source": [
    "Observamos que hay tópicos que tienen palabras clave repetidas, por lo tanto podrían considerarse (o no, tal vez la división es además informativa) como parte de un mismo macro-tópico. La idea es entonces cuantificar qué tan parecidos son entre ellos y observar si podemos tomar algún criterio para juntarlos."
   ]
  },
  {
   "cell_type": "markdown",
   "metadata": {},
   "source": [
    "En principio podemos cuantificar la similitud con la distancia coseno."
   ]
  },
  {
   "cell_type": "code",
   "execution_count": 2,
   "metadata": {},
   "outputs": [
    {
     "name": "stdout",
     "output_type": "stream",
     "text": [
      "Distancia coseno entre 1 y 2: 0.902685752032\n",
      "Distancia coseno entre 1 y 7: 0.562462974411\n"
     ]
    }
   ],
   "source": [
    "from scipy.spatial.distance import cosine\n",
    "\n",
    "print('Distancia coseno entre 1 y 2: {}'.format(cosine(nmf.components_[1], nmf.components_[2])))\n",
    "print('Distancia coseno entre 1 y 7: {}'.format(cosine(nmf.components_[1], nmf.components_[7])))\n"
   ]
  },
  {
   "cell_type": "markdown",
   "metadata": {},
   "source": [
    "Si bien vemos que la distancia entre tópicos parecidos es menor, podemos enfatizar esta diferencia mediante una reducción de la dimensionalidad. Lo realizamos con **Singular Value Decomposition**:"
   ]
  },
  {
   "cell_type": "code",
   "execution_count": 3,
   "metadata": {},
   "outputs": [
    {
     "name": "stdout",
     "output_type": "stream",
     "text": [
      "Cantidad de información retenida 0.660177587671\n",
      "Dimensiones de la matriz de tópicos reducida: (8, 4)\n"
     ]
    }
   ],
   "source": [
    "from sklearn.decomposition import TruncatedSVD\n",
    "\n",
    "# Ponemos por ejemplo la mitad de las dimensión más chica \n",
    "# Recordar que si aplicamos SVD con la cantidad de componentes igual\n",
    "# a la dimensión más chica de la matriz que queremos reducir,\n",
    "# simplemente es un cambio de base y no hay pérdida de la información,\n",
    "# necesaria para obtener abstracción en la interpretación de los tópicos.\n",
    "svd = TruncatedSVD(n_components=4)\n",
    "\n",
    "nmf_reduced = svd.fit_transform(nmf.components_)\n",
    "\n",
    "print('Cantidad de información retenida {}'.format(sum(svd.explained_variance_ratio_)))\n",
    "print('Dimensiones de la matriz de tópicos reducida: {}'.format(nmf_reduced.shape))"
   ]
  },
  {
   "cell_type": "markdown",
   "metadata": {},
   "source": [
    "Vemos cómo varió la distancia en la matriz reducida:"
   ]
  },
  {
   "cell_type": "code",
   "execution_count": 4,
   "metadata": {},
   "outputs": [
    {
     "name": "stdout",
     "output_type": "stream",
     "text": [
      "Distancia coseno entre 1 y 2: 0.870746055822\n",
      "Distancia coseno entre 1 y 7: 0.0169970595703\n"
     ]
    }
   ],
   "source": [
    "print('Distancia coseno entre 1 y 2: {}'.format(cosine(nmf_reduced[1], nmf_reduced[2])))\n",
    "print('Distancia coseno entre 1 y 7: {}'.format(cosine(nmf_reduced[1], nmf_reduced[7])))"
   ]
  },
  {
   "cell_type": "markdown",
   "metadata": {},
   "source": [
    "Vemos que aquellos tópicos parecidos se acercaron, mientras los diferentes mantuvieron la distancia."
   ]
  },
  {
   "cell_type": "markdown",
   "metadata": {},
   "source": [
    "#### Dendrograma"
   ]
  },
  {
   "cell_type": "markdown",
   "metadata": {},
   "source": [
    "Aquí realizamos el clustering jerárquico y la construcción del dendrograma. **Scipy** tiene funciones para hacerlo."
   ]
  },
  {
   "cell_type": "code",
   "execution_count": 5,
   "metadata": {},
   "outputs": [],
   "source": [
    "from scipy.cluster.hierarchy import linkage, dendrogram"
   ]
  },
  {
   "cell_type": "markdown",
   "metadata": {},
   "source": [
    "Con la función *linkage* ligamos los tópicos. El parámetro *method* se refiere al criterio que toma para unir un objeto con un conjunto de objetos (clusterizados en algún paso anterior), y podemos además indicar la métrica (en caso que haga falta usar una métrica que no venga por default se puede pasar como argumento la matriz con las distancias ya precalculadas). Ver la documentación de [linkage](https://docs.scipy.org/doc/scipy/reference/generated/scipy.cluster.hierarchy.linkage.html)."
   ]
  },
  {
   "cell_type": "code",
   "execution_count": 6,
   "metadata": {},
   "outputs": [],
   "source": [
    "# Z es todo el clustering realizado\n",
    "Z = linkage(nmf_reduced, method='single', metric='cosine')"
   ]
  },
  {
   "cell_type": "markdown",
   "metadata": {},
   "source": [
    "Finalmente gráficamos. Para ello utilizamos además la función *dendrogram*:"
   ]
  },
  {
   "cell_type": "code",
   "execution_count": 7,
   "metadata": {},
   "outputs": [
    {
     "data": {
      "image/png": "[encoded data removed]",
      "text/plain": [
       "<matplotlib.figure.Figure at 0x7fbe39376650>"
      ]
     },
     "metadata": {},
     "output_type": "display_data"
    }
   ],
   "source": [
    "import matplotlib.pyplot as plt\n",
    "%matplotlib inline\n",
    "\n",
    "fig = plt.figure(figsize=(8, 5))\n",
    "\n",
    "# Esta función construye el dendrograma a partir de Z\n",
    "dn = dendrogram(Z)\n",
    "\n",
    "plt.ylim([0.00, 0.05])\n",
    "plt.xticks(size = 15)\n",
    "plt.yticks(size = 15)\n",
    "plt.xlabel(u'Tópico', size = 20)\n",
    "plt.ylabel('Distancia coseno', size = 20)\n",
    "plt.grid('on')\n",
    "plt.show()"
   ]
  },
  {
   "cell_type": "markdown",
   "metadata": {},
   "source": [
    "Según la documentación de la función [dendrogram](https://docs.scipy.org/doc/scipy/reference/generated/scipy.cluster.hierarchy.dendrogram.html#scipy.cluster.hierarchy.dendrogram) las ramas con un color diferente al azul indica que la distancia está por debajo de una distancia crítica, por lo que sugiere que los tópicos ligados con el mismo color pueden considerarse fusionados. Un estudio más cuantitativo consistiría en medir coeficientes como la silhouette para evaluar la bondad de la partición.\n",
    "\n",
    "En este ejemplo funciona bastante bien: el clustering jerárquico nos sugiere fusionar aquellos tópicos que naturalmente consideraríamos parecidos, obteniendo finalmente los 4 tópicos que esperábamos en el conjunto de prueba."
   ]
  },
  {
   "cell_type": "markdown",
   "metadata": {},
   "source": [
    "#### Interpretación del objeto Z\n",
    "\n",
    "Esto puede ser útil en caso que se quiera construir un dendrograma con otros datos.\n",
    "Z tiene dimensiones de (n-1) por 4, donde n es la cantidad de objetos que queremos clusterizar (en nuestro caso 8).\n",
    "\n",
    "Cada fila es una iteración: los dos primeros componentes de la fila son los objetos que liga, la tercer componente la distancia entre ellos, y el cuarto la cantidad de objetos incluídos en esa fusión."
   ]
  },
  {
   "cell_type": "code",
   "execution_count": 8,
   "metadata": {},
   "outputs": [
    {
     "name": "stdout",
     "output_type": "stream",
     "text": [
      "[0.         5.         0.01478426 2.        ]\n"
     ]
    }
   ],
   "source": [
    "# Por ejemplo:\n",
    "# En la primer iteración Z liga el tópico 0 con el 5, distanciados a 0.014758,\n",
    "# y al fusionarlos crea un nuevo objeto que contiene a dos objetos originales.\n",
    "\n",
    "print(Z[0])"
   ]
  },
  {
   "cell_type": "markdown",
   "metadata": {},
   "source": [
    "cada vez que liga dos objetos en uno nuevo, lo nombra con la menor etiqueta posible. Así como acá tenemos objetos del 0 al 7, la primer fusión que hace la denomina 8. Veamos la matriz Z en su totalidad:"
   ]
  },
  {
   "cell_type": "code",
   "execution_count": 9,
   "metadata": {},
   "outputs": [
    {
     "name": "stdout",
     "output_type": "stream",
     "text": [
      "[[ 0.          5.          0.01478426  2.        ]\n",
      " [ 3.          6.          0.01634422  2.        ]\n",
      " [ 1.          7.          0.01699706  2.        ]\n",
      " [ 4.          9.          0.02025532  3.        ]\n",
      " [ 8.         11.          0.6867104   5.        ]\n",
      " [10.         12.          0.6948704   7.        ]\n",
      " [ 2.         13.          0.78051292  8.        ]]\n"
     ]
    }
   ],
   "source": [
    "print(Z)"
   ]
  },
  {
   "cell_type": "markdown",
   "metadata": {},
   "source": [
    "La fusión entre el elemento 4 y el 9 (*Z[3]*) es en realidad la fusión entre el elemento 4 y el objeto creado de la fusión entre 3 y 6. Se indica la distancia entre el objeto 4 y el 9, y al fusionarlos se indica que el nuevo objeto contiene 3 de los objetos originales."
   ]
  }
 ],
 "metadata": {
  "kernelspec": {
   "display_name": "Python 2",
   "language": "python",
   "name": "python2"
  },
  "language_info": {
   "codemirror_mode": {
    "name": "ipython",
    "version": 2
   },
   "file_extension": ".py",
   "mimetype": "text/x-python",
   "name": "python",
   "nbconvert_exporter": "python",
   "pygments_lexer": "ipython2",
   "version": "2.7.12"
  }
 },
 "nbformat": 4,
 "nbformat_minor": 2
}
