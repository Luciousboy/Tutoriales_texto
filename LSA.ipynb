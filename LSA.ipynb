{
 "cells": [
  {
   "cell_type": "markdown",
   "metadata": {},
   "source": [
    "# Latent Semantic Analysis (LSA)\n",
    "\n",
    "**LSA** es una técnica de reducción de la dimensionalidad que nos permite asociar en forma más notoria distintos objetos de un problema. En nuestro caso, reducir la dimensión del espacio de términos en el cual están descritos los documentos nos permitirá ver más fácilmente qué documentos son más parecidos entre sí. Asimismo, reducir el espacio de documentos en el que están descritos los términos nos permitirá ver el grado de asociación entre los mismos. Prácticamente cualquier técnica de reducción de la dimensionalidad nos permite abstraernos de las particularidades de los objetos de estudio y concentrarnos en sus elementos en común."
   ]
  },
  {
   "cell_type": "markdown",
   "metadata": {},
   "source": [
    "Utilizemos el diccionario creado y el corpus de prueba para ver cómo implementar **Latent Semantic Analysis**. Si bien **Gensim** tiene una implementación, vamos a utilizar la de **Scikit-learn** que nos permite a acceder a más información numérica."
   ]
  },
  {
   "cell_type": "markdown",
   "metadata": {},
   "source": [
    "Algunos headers primero:"
   ]
  },
  {
   "cell_type": "code",
   "execution_count": 1,
   "metadata": {},
   "outputs": [],
   "source": [
    "# -*- coding: utf8 -*-\n",
    "%matplotlib inline\n",
    "\n",
    "# La primer línea es para poder escribir comentarios con tilde y caracteres de español.\n",
    "# La segunda necesaria para que se muestren todos los gráficos en la notebook."
   ]
  },
  {
   "cell_type": "markdown",
   "metadata": {},
   "source": [
    "Comenzamos cargando el diccionario y el corpus previamente construidos:"
   ]
  },
  {
   "cell_type": "code",
   "execution_count": 2,
   "metadata": {},
   "outputs": [],
   "source": [
    "from gensim.corpora import Dictionary\n",
    "import cPickle as pk\n",
    "\n",
    "# Cargado del diccionario construido\n",
    "dictionary = Dictionary.load('tutorial.dict')\n",
    "\n",
    "# Cargado del corpus como bag or words\n",
    "corpus = pk.load(file('Tutorial_corpus.pk','r'))"
   ]
  },
  {
   "cell_type": "markdown",
   "metadata": {},
   "source": [
    "Para utilizar la implementación en **Scikit-learn** necesitamos transformar el corpus en una matriz *sparse* que **Scikit-learn** entiende. **Gensim** nos permite hacer esto fácilmente:"
   ]
  },
  {
   "cell_type": "code",
   "execution_count": 3,
   "metadata": {},
   "outputs": [],
   "source": [
    "from gensim.matutils import corpus2csc\n",
    "\n",
    "# Conversión del corpus creado por Gensim a una matriz de scikit-learn\n",
    "corpus2sklearn = corpus2csc(corpus).T"
   ]
  },
  {
   "cell_type": "markdown",
   "metadata": {},
   "source": [
    "La trasposición (*.T*) nos permite que la matriz quede armada de forma tal que cada documento sea un vector fila en el espacio de términos (más adelante analizaremos la matriz términos por documentos). Esto se ve inspeccionando las dimensiones de la matriz:"
   ]
  },
  {
   "cell_type": "code",
   "execution_count": 4,
   "metadata": {},
   "outputs": [
    {
     "name": "stdout",
     "output_type": "stream",
     "text": [
      "Dimensiones: (400, 18646)\n"
     ]
    }
   ],
   "source": [
    "print('Dimensiones: {}'.format(corpus2sklearn.shape))"
   ]
  },
  {
   "cell_type": "markdown",
   "metadata": {},
   "source": [
    "Vemos entonces que la matriz tiene 400 filas que es el número de documentos cargados y 18646 términos que los describen."
   ]
  },
  {
   "cell_type": "markdown",
   "metadata": {},
   "source": [
    "Dado que los documentos son vectores descritos en el espacio de términos podemos preguntarnos qué tan similares son entre ellos. Una medida de utilidad es el coseno del ángulo comprendido entre dos vectores documento, siendo 0 cuando los vectores son ortogonales y 1 cuando apuntan en la misma dirección. El módulo *scipy.spatial.distance* tiene muchas funciones distancia incorporadas que podemos aprovechar para este cálculo, entre ellas la distancia coseno (aunque formalmente no sea una distancia métrica):"
   ]
  },
  {
   "cell_type": "code",
   "execution_count": 5,
   "metadata": {},
   "outputs": [
    {
     "name": "stdout",
     "output_type": "stream",
     "text": [
      "Documentos 0 y 1: similitud = 0.0900233126263\n",
      "Documentos 0 y 200: similitud = 0.00966285059421\n"
     ]
    }
   ],
   "source": [
    "from scipy.spatial.distance import cosine\n",
    "\n",
    "# Similitud a partir de la \"distancia\" coseno:\n",
    "# 1 - cosine() da el coseno del ángulo entre los vectores argumento\n",
    "\n",
    "# Debemos llamar al vector del documento i como corpus2sklearn[i].toarray()[0] \n",
    "# dado que tenemos que extraerlo de una matriz comprimida, pero usualmente basta con matrix[i]\n",
    "\n",
    "# Similitud entre el documento 0 y el documento 1\n",
    "aux = 1.00 - cosine(corpus2sklearn[0].toarray()[0], corpus2sklearn[1].toarray()[0])\n",
    "print(u'Documentos 0 y 1: similitud = {}'.format(aux))\n",
    "\n",
    "# Similitud entre el documento 0 y el documento 200\n",
    "aux = 1.00 - cosine(corpus2sklearn[0].toarray()[0], corpus2sklearn[200].toarray()[0])\n",
    "print(u'Documentos 0 y 200: similitud = {}'.format(aux))"
   ]
  },
  {
   "cell_type": "markdown",
   "metadata": {},
   "source": [
    "El corpus fue preparado especialmente con 400 documentos que pertenecen a 4 tópicos, ordenados de 100 en 100. Vemos entonces que la similitud entre el documento 0 y 1 es mayor que entre el documento 0 y 200, que pertencen a distintos tópicos. Sin embargo la similitud en ambos casos parece muy baja. **Veamos cómo mejora esta situación al reducir la dimensionalidad del problema con LSA**."
   ]
  },
  {
   "cell_type": "markdown",
   "metadata": {},
   "source": [
    "### LSA = Singular Value Decomposition (SVD)\n",
    "\n",
    "Realizar LSA es los mismo que buscar la descomposición en [valores singulares](https://es.wikipedia.org/wiki/Descomposici%C3%B3n_en_valores_singulares) de una matriz rectangular . Dada la matriz $A$ que en nuestro caso será la matriz de *m* documentos por *n* términos (donde recordemos cada entrada es la frecuencia con la que aparece un dado término en el documento), la descomposición en valores singulares descompone la matriz como:\n",
    "\n",
    "$$ A^{(m \\times n)} = U^{(m \\times m)} \\cdot S^{(m \\times n)} \\cdot (V^{(n \\times n)})^T $$\n",
    "\n",
    "La matriz $S$ es una matriz rectangular con los valores singulares en la diagonal del bloque con la dimensión inferior (completando con ceros el resto de las columnas). La reducción de la dimensionalidad se produce cuando se descartan los valores singulares más chicos y se recompone la matriz $A$.\n",
    "Vamos a utilizar **Scikit-learn** para la aplicación de este modelo. \n",
    "El esquema de trabajo en **Scikit-learn** es generalmente el siguiente:\n",
    "- Importar la clase del modelo que queremos utilizar.\n",
    "- Creamos un objeto a partir de la clase con los parámetros que querramos.\n",
    "- Llamamos al método *fit_transform* del objeto creado pasandole como argumentos los datos, en nuestro caso la matriz asociada al corpus.\n",
    "\n",
    "Por lo tanto comenzamos importando la clase de SVD:"
   ]
  },
  {
   "cell_type": "code",
   "execution_count": 6,
   "metadata": {},
   "outputs": [],
   "source": [
    "from sklearn.decomposition import TruncatedSVD"
   ]
  },
  {
   "cell_type": "markdown",
   "metadata": {},
   "source": [
    "Lo siguiente es crear un objeto a partir de la clase importada. Ya que **SVD** se utiliza para reducir la dimensionalidad del problema, hay que especificar como argumento cuántas dimensiones vamos a conservar. Como en principio no sabemos nada de los datos utilizamos la dimensión más chica (-1 por cómo es la implementación del algoritmo) de la matriz del corpus de forma tal de realizar la transformación sin pérdida de información al principio (en este caso la transformación correspondería simplemente a un cambio de base):"
   ]
  },
  {
   "cell_type": "code",
   "execution_count": 7,
   "metadata": {},
   "outputs": [],
   "source": [
    "# Objeto svd a partir de la clase TruncatedSVD\n",
    "svd = TruncatedSVD(n_components = min(corpus2sklearn.shape)-1)"
   ]
  },
  {
   "cell_type": "markdown",
   "metadata": {},
   "source": [
    "Transformamos la matriz del corpus a la nueva base, donde cada vector base es una combinación lineal de los términos del espacio original:"
   ]
  },
  {
   "cell_type": "code",
   "execution_count": 8,
   "metadata": {},
   "outputs": [],
   "source": [
    "corpus_transformed = svd.fit_transform(corpus2sklearn)"
   ]
  },
  {
   "cell_type": "markdown",
   "metadata": {},
   "source": [
    "Vemos que las dimensiones de la matriz corpus transformada es ahora el número de documentos por el número de las nuevas dimensiones:"
   ]
  },
  {
   "cell_type": "code",
   "execution_count": 9,
   "metadata": {},
   "outputs": [
    {
     "name": "stdout",
     "output_type": "stream",
     "text": [
      "Dimensiones: (400, 399)\n"
     ]
    }
   ],
   "source": [
    "print('Dimensiones: {}'.format(corpus_transformed.shape))"
   ]
  },
  {
   "cell_type": "markdown",
   "metadata": {},
   "source": [
    "#### ¿Cuánta información hay contenida en cada dimensión? \n",
    "Por defecto, **SVD** ordena las dimensiones por cantidad de información contenida, es decir la primer dimensión tiene más información que la segunda, la segunda más que la tercera, etc. Podemos acceder a la fracción de varianza explicada en cada dimensión mediante el siguiente método del objeto **svd**:"
   ]
  },
  {
   "cell_type": "code",
   "execution_count": 10,
   "metadata": {},
   "outputs": [
    {
     "name": "stdout",
     "output_type": "stream",
     "text": [
      "[0.06024648 0.07750942 0.03829153 0.0360149  0.02902977 0.02499114\n",
      " 0.02120786 0.01580438 0.01478186 0.0126623  0.01251634 0.01219027\n",
      " 0.01084258 0.0087837  0.0086163  0.00778815 0.00753736 0.00740165\n",
      " 0.00721298 0.00714912]\n"
     ]
    }
   ],
   "source": [
    "# Vemos la fracción de los primeras 20 dimensiones\n",
    "print(svd.explained_variance_ratio_[:20])"
   ]
  },
  {
   "cell_type": "markdown",
   "metadata": {},
   "source": [
    "Finalmente veamos gráficamente el acumulado de información a medida que aumentamos el número de dimensiones:"
   ]
  },
  {
   "cell_type": "code",
   "execution_count": 11,
   "metadata": {},
   "outputs": [
    {
     "data": {
      "image/png": "[encoded data removed]",
      "text/plain": [
       "<matplotlib.figure.Figure at 0x7f1daa9d8d50>"
      ]
     },
     "metadata": {},
     "output_type": "display_data"
    }
   ],
   "source": [
    "import matplotlib.pyplot as plt\n",
    "import numpy as np\n",
    "\n",
    "# Gráfico de información acumulada\n",
    "plt.figure(1)\n",
    "plt.plot(np.cumsum(svd.explained_variance_ratio_), linewidth = 2)\n",
    "plt.xscale('symlog')\n",
    "plt.xlim([0, 400])\n",
    "plt.xlabel(u'Número de dimensiones')\n",
    "plt.ylabel(u'Fracción de varianza explicada')\n",
    "plt.title(u'SVD de matriz de documentos x términos')\n",
    "plt.ylim([0.00, 1.00])\n",
    "plt.grid('on')\n",
    "plt.show()\n"
   ]
  },
  {
   "cell_type": "markdown",
   "metadata": {},
   "source": [
    "Del último gráfico podemos observar por ejemplo que 10 dimensiones son suficientes para explicar alrededor del 35% de la información y con 100 dimensiones alrededor del 70%. Nos quedamos con 20 dimensiones con las que se explica alrededor del 40%. Para recudir nuestra matriz a este número de dimensiones debemos construir nuevamente el objeto **svd**:"
   ]
  },
  {
   "cell_type": "code",
   "execution_count": 12,
   "metadata": {},
   "outputs": [
    {
     "name": "stdout",
     "output_type": "stream",
     "text": [
      "Dimensiones: (400, 20)\n"
     ]
    }
   ],
   "source": [
    "# Objeto svd con 20 dimensiones\n",
    "svd = TruncatedSVD(20)\n",
    "\n",
    "# Transformamos la matriz del corpus\n",
    "corpus_transformed = svd.fit_transform(corpus2sklearn)\n",
    "\n",
    "# Vemos la dimensión de la matriz transformada\n",
    "print('Dimensiones: {}'.format(corpus_transformed.shape))"
   ]
  },
  {
   "cell_type": "markdown",
   "metadata": {},
   "source": [
    "Volvamos a ver entonces cómo es la similitud entre los documentos en el espacio reducido:"
   ]
  },
  {
   "cell_type": "code",
   "execution_count": 13,
   "metadata": {},
   "outputs": [
    {
     "name": "stdout",
     "output_type": "stream",
     "text": [
      "Documentos 0 y 1: similitud = 0.651546840531\n",
      "Documentos 0 y 200: similitud = 0.0362292286069\n"
     ]
    }
   ],
   "source": [
    "# Similitud entre el documento 0 y el documento 1\n",
    "aux = 1.00 - cosine(corpus_transformed[0], corpus_transformed[1])\n",
    "print(u'Documentos 0 y 1: similitud = {}'.format(aux))\n",
    "\n",
    "# Similitud entre el documento 0 y el documento 200\n",
    "aux = 1.00 - cosine(corpus_transformed[0], corpus_transformed[200])\n",
    "print(u'Documentos 0 y 200: similitud = {}'.format(aux))"
   ]
  },
  {
   "cell_type": "markdown",
   "metadata": {},
   "source": [
    "Notamos que las similitud entre el documento 0 y el documento 1 aumentó en forma drástica mientras que entre el documento 0 y el documento 200 se mantuvo en valores bajos. La reducción de la dimensionalidad acerca los documentos que esperabamos sean similares y mantiene distanciados aquellos documentos pertenecientes a distintas temáticas."
   ]
  },
  {
   "cell_type": "markdown",
   "metadata": {},
   "source": [
    "### Descripción del problema en el espacio de términos\n",
    "\n",
    "La aplicación de LSA suele hacerse [no sobre la matriz de documentos por términos sino sobre la matriz traspuesta](http://web.cs.ucla.edu/~rosen/161/hw/intro_to_LSA.pdf). Con esto podemos analizar por ejemplo la similitud entre términos. \n",
    "Realicemos esto repitiendo prácticamente el mismo análisis que antes pero partiendo de la matriz dada por *Gensim* sin hacer la trasposición inicial:"
   ]
  },
  {
   "cell_type": "code",
   "execution_count": 21,
   "metadata": {},
   "outputs": [
    {
     "name": "stdout",
     "output_type": "stream",
     "text": [
      "Dimensiones: (18646, 400)\n"
     ]
    }
   ],
   "source": [
    "# Utilizamos la matriz tal como la entrego gensim\n",
    "corpus2sklearn = corpus2csc(corpus)\n",
    "\n",
    "print('Dimensiones: {}'.format(corpus2sklearn.shape))"
   ]
  },
  {
   "cell_type": "markdown",
   "metadata": {},
   "source": [
    "Vemos que nuestra matriz de interés tiene como vectores filas todos los términos utlizados para la descripción del corpus. ¿Cómo es la relación entre las filas y los términos? Se lo preguntamos al diccionario. Si queremos averiguar en qué fila se ubica un término específico llamamos al método token2id:"
   ]
  },
  {
   "cell_type": "code",
   "execution_count": 15,
   "metadata": {},
   "outputs": [
    {
     "name": "stdout",
     "output_type": "stream",
     "text": [
      "aborto - fila: 0\n",
      "despenalización - fila: 1267\n",
      "trump - fila 435\n"
     ]
    }
   ],
   "source": [
    "print('aborto - fila: {}'.format(dictionary.token2id[u'aborto']))\n",
    "print(u'despenalización - fila: {}'.format(dictionary.token2id[u'despenalización']))\n",
    "print(u'trump - fila {}'.format(dictionary.token2id[u'trump']))"
   ]
  },
  {
   "cell_type": "markdown",
   "metadata": {},
   "source": [
    "Veamos la similitud entre términos analogamente a lo que hicimos con los documentos, antes de aplicar la reducción de la dimensionalidad:"
   ]
  },
  {
   "cell_type": "code",
   "execution_count": 16,
   "metadata": {},
   "outputs": [
    {
     "name": "stdout",
     "output_type": "stream",
     "text": [
      "aborto y despenalización: similitud = 0.538457149861\n",
      "aborto y trump: similitud = 0.00594193008084\n"
     ]
    }
   ],
   "source": [
    "# Similitud entre términos \n",
    "aux = 1.00 - cosine(corpus2sklearn[0].toarray()[0], corpus2sklearn[1267].toarray()[0])\n",
    "print(u'aborto y despenalización: similitud = {}'.format(aux))\n",
    "\n",
    "aux = 1.00 - cosine(corpus2sklearn[0].toarray()[0], corpus2sklearn[435].toarray()[0])\n",
    "print(u'aborto y trump: similitud = {}'.format(aux))"
   ]
  },
  {
   "cell_type": "markdown",
   "metadata": {},
   "source": [
    "En este caso más que similitud nos indica que los términos que comparamos aparecen en un contexto similar."
   ]
  },
  {
   "cell_type": "markdown",
   "metadata": {},
   "source": [
    "Apliquemos ahora **SVD** para ver cuál es el efecto de reducir la dimensionalidad del problema. Inspeccionamos primero la cantidad de información contenida en cada dimensión realizando una transformación prácticamente sin pérdida de información:"
   ]
  },
  {
   "cell_type": "code",
   "execution_count": 17,
   "metadata": {},
   "outputs": [
    {
     "data": {
      "image/png": "[encoded data removed]",
      "text/plain": [
       "<matplotlib.figure.Figure at 0x7f1daa9d8350>"
      ]
     },
     "metadata": {},
     "output_type": "display_data"
    }
   ],
   "source": [
    "# Objeto svd a partir de la clase TruncatedSVD\n",
    "svd = TruncatedSVD(n_components=min(corpus2sklearn.shape)-1)\n",
    "\n",
    "# Transformación del corpus de términos x documentos\n",
    "corpus_transformed_terms = svd.fit_transform(corpus2sklearn)\n",
    "\n",
    "# Gráfico de información acumulada\n",
    "plt.figure(2)\n",
    "plt.plot(np.cumsum(svd.explained_variance_ratio_), linewidth = 2)\n",
    "plt.xscale('symlog')\n",
    "plt.xlim([0, 400])\n",
    "plt.xlabel(u'Número de dimensiones')\n",
    "plt.ylabel(u'Fracción de varianza explicada')\n",
    "plt.title(u'SVD de matriz de términos x documentos')\n",
    "plt.ylim([0.00, 1.00])\n",
    "plt.grid('on')\n",
    "plt.show()\n"
   ]
  },
  {
   "cell_type": "markdown",
   "metadata": {},
   "source": [
    "Reteniendo solo 20 dimensiones, al igual que antes, se explica alrededor del 40% de la varianza. Aplicamos entonces **SVD** con este número de dimensiones, obteniendo una descripción de los términos descriptos en un espacio reducido, cuya vectores base son ahora combinaciones lineales de los documentos:"
   ]
  },
  {
   "cell_type": "code",
   "execution_count": 18,
   "metadata": {},
   "outputs": [],
   "source": [
    "# Objeto svd con 20 dimensiones\n",
    "svd = TruncatedSVD(20)\n",
    "\n",
    "# Transformación del corpus de términos por documentos\n",
    "corpus_transformed_terms = svd.fit_transform(corpus2sklearn)"
   ]
  },
  {
   "cell_type": "markdown",
   "metadata": {},
   "source": [
    "Inspeccionamos la dimensiones de la matriz transformada:"
   ]
  },
  {
   "cell_type": "code",
   "execution_count": 19,
   "metadata": {},
   "outputs": [
    {
     "name": "stdout",
     "output_type": "stream",
     "text": [
      "Dimensiones: (18646, 20)\n"
     ]
    }
   ],
   "source": [
    "print('Dimensiones: {}'.format(corpus_transformed_terms.shape))"
   ]
  },
  {
   "cell_type": "markdown",
   "metadata": {},
   "source": [
    "Finalmente, vemos cuál fue el efecto de la reducción de la dimensionalidad en la similitud entre términos:"
   ]
  },
  {
   "cell_type": "code",
   "execution_count": 20,
   "metadata": {},
   "outputs": [
    {
     "name": "stdout",
     "output_type": "stream",
     "text": [
      "aborto y despenalización: similitud = 0.794570943312\n",
      "aborto y trump: similitud = 0.00569115593022\n"
     ]
    }
   ],
   "source": [
    "aux = 1.00 - cosine(corpus_transformed_terms[0], corpus_transformed_terms[1267])\n",
    "print(u'aborto y despenalización: similitud = {}'.format(aux))\n",
    "\n",
    "aux = 1.00 - cosine(corpus_transformed_terms[0], corpus_transformed_terms[435])\n",
    "print(u'aborto y trump: similitud = {}'.format(aux))"
   ]
  },
  {
   "cell_type": "markdown",
   "metadata": {},
   "source": [
    "Vemos que nuevamente aumenta la similitud entre términos que esperábamos que aparezcan en contextos similares, y prácticamente no modifica la similitud entre dos términos que aparecen en contextos diferentes. "
   ]
  },
  {
   "cell_type": "markdown",
   "metadata": {},
   "source": [
    "### Referencias\n",
    "\n",
    "- Landauer, Thomas K., Peter W. Foltz, and Darrell Laham. \"An introduction to latent semantic analysis.\" Discourse processes 25.2-3 (1998): 259-284.(https://www.tandfonline.com/doi/abs/10.1080/01638539809545028)"
   ]
  },
  {
   "cell_type": "code",
   "execution_count": null,
   "metadata": {},
   "outputs": [],
   "source": []
  }
 ],
 "metadata": {
  "kernelspec": {
   "display_name": "Python 2",
   "language": "python",
   "name": "python2"
  },
  "language_info": {
   "codemirror_mode": {
    "name": "ipython",
    "version": 2
   },
   "file_extension": ".py",
   "mimetype": "text/x-python",
   "name": "python",
   "nbconvert_exporter": "python",
   "pygments_lexer": "ipython2",
   "version": "2.7.12"
  }
 },
 "nbformat": 4,
 "nbformat_minor": 2
}
